{
  "nbformat": 4,
  "nbformat_minor": 0,
  "metadata": {
    "colab": {
      "name": "Копия блокнота \"КлассифТочРаспр.ipynb\"",
      "provenance": [],
      "collapsed_sections": []
    },
    "kernelspec": {
      "name": "python3",
      "display_name": "Python 3"
    },
    "accelerator": "GPU"
  },
  "cells": [
    {
      "cell_type": "code",
      "metadata": {
        "id": "Vhoqw9ca3XLS"
      },
      "source": [
        "from google.colab import drive\n",
        "drive.mount('/content/drive')"
      ],
      "execution_count": null,
      "outputs": []
    },
    {
      "cell_type": "code",
      "metadata": {
        "id": "oq_e2EA22NO4",
        "colab": {
          "base_uri": "https://localhost:8080/",
          "height": 485
        },
        "outputId": "42eb5031-373e-4389-c2f4-cb09ad65299b"
      },
      "source": [
        "from tensorflow.python.client import device_lib\n",
        "device_lib.list_local_devices()"
      ],
      "execution_count": null,
      "outputs": [
        {
          "output_type": "execute_result",
          "data": {
            "text/plain": [
              "[name: \"/device:CPU:0\"\n",
              " device_type: \"CPU\"\n",
              " memory_limit: 268435456\n",
              " locality {\n",
              " }\n",
              " incarnation: 13085730942996709780, name: \"/device:XLA_CPU:0\"\n",
              " device_type: \"XLA_CPU\"\n",
              " memory_limit: 17179869184\n",
              " locality {\n",
              " }\n",
              " incarnation: 4955793861089033005\n",
              " physical_device_desc: \"device: XLA_CPU device\", name: \"/device:XLA_GPU:0\"\n",
              " device_type: \"XLA_GPU\"\n",
              " memory_limit: 17179869184\n",
              " locality {\n",
              " }\n",
              " incarnation: 10787260222043096027\n",
              " physical_device_desc: \"device: XLA_GPU device\", name: \"/device:GPU:0\"\n",
              " device_type: \"GPU\"\n",
              " memory_limit: 11150664704\n",
              " locality {\n",
              "   bus_id: 1\n",
              "   links {\n",
              "   }\n",
              " }\n",
              " incarnation: 4362299375934798444\n",
              " physical_device_desc: \"device: 0, name: Tesla K80, pci bus id: 0000:00:04.0, compute capability: 3.7\"]"
            ]
          },
          "metadata": {
            "tags": []
          },
          "execution_count": 2
        }
      ]
    },
    {
      "cell_type": "code",
      "metadata": {
        "id": "-soBJn8g8jiG",
        "colab": {
          "base_uri": "https://localhost:8080/",
          "height": 34
        },
        "outputId": "93ffe60a-9524-4ae2-ad12-5f31ae8ac1f6"
      },
      "source": [
        "import tensorflow as tf\n",
        "tf.test.gpu_device_name()"
      ],
      "execution_count": null,
      "outputs": [
        {
          "output_type": "execute_result",
          "data": {
            "text/plain": [
              "'/device:GPU:0'"
            ]
          },
          "metadata": {
            "tags": []
          },
          "execution_count": 3
        }
      ]
    },
    {
      "cell_type": "code",
      "metadata": {
        "id": "2YD1z0ks2WVW"
      },
      "source": [
        "%matplotlib inline\n",
        "import os\n",
        "import sys\n",
        "import glob\n",
        "import numpy as np\n",
        "from random import shuffle\n",
        "import shutil\n",
        "import imageio as im\n",
        "\n",
        "import matplotlib\n",
        "import matplotlib.pyplot as plt\n",
        "import matplotlib.image as mpimg\n",
        "\n",
        "\n",
        "from tensorflow import keras\n",
        "from tensorflow.keras import optimizers, initializers, models\n",
        "from tensorflow.keras.preprocessing.image import ImageDataGenerator\n",
        "from tensorflow.keras.preprocessing import image\n",
        "from tensorflow.keras.models import Sequential\n",
        "from tensorflow.keras.layers import Conv2D, MaxPool2D, Activation, Dropout, Flatten, Dense, BatchNormalization\n",
        "from tensorflow.keras import backend as K\n",
        "from tensorflow.keras.callbacks import ModelCheckpoint\n",
        "\n",
        "from tensorflow import keras\n",
        "from tensorflow.keras.models import Model\n",
        "from tensorflow.keras import optimizers, initializers, models\n",
        "from tensorflow.keras.preprocessing.image import ImageDataGenerator\n",
        "from tensorflow.keras.preprocessing import image\n",
        "from tensorflow.keras.models import Sequential\n",
        "from tensorflow.keras.layers import Conv2D, MaxPool2D, Activation, Dropout, Flatten, Dense, BatchNormalization, Input, Concatenate\n",
        "from tensorflow.keras import backend as K\n",
        "from tensorflow.keras.callbacks import ModelCheckpoint\n",
        "from sklearn.metrics import classification_report, confusion_matrix\n",
        "from tensorflow.keras.utils import plot_model\n",
        "from tensorflow.keras.layers import concatenate"
      ],
      "execution_count": null,
      "outputs": []
    },
    {
      "cell_type": "code",
      "metadata": {
        "id": "7_9HSrIP2iZN"
      },
      "source": [
        "img_width, img_height = 133, 108\n",
        "if K.image_data_format() == 'channels_first':\n",
        "  input_shape = (1, img_width, img_height)\n",
        "else:\n",
        "  input_shape = (img_width, img_height, 1)"
      ],
      "execution_count": null,
      "outputs": []
    },
    {
      "cell_type": "code",
      "metadata": {
        "id": "uUUZva2_2nzf",
        "colab": {
          "base_uri": "https://localhost:8080/",
          "height": 745
        },
        "outputId": "309090c6-835c-4aeb-bb17-66130fb4e626"
      },
      "source": [
        "glorot_normal = initializers.he_normal()\n",
        "\n",
        "def naive_inception_module(layer_in):\n",
        "  conv1_1 = Conv2D(filters = 4, kernel_size=(10, 1), strides = (2, 2), padding='same', activation='relu', kernel_initializer=glorot_normal)(layer_in)\n",
        "  conv1_2 = Conv2D(filters = 4,kernel_size=(5, 1), strides = (2, 2), padding='same', activation='relu', kernel_initializer=glorot_normal)(conv1_1)\n",
        "  conv1_3 = Conv2D(filters = 4,kernel_size=(1, 1), strides = (2, 2), padding='same', activation='relu', kernel_initializer=glorot_normal)(conv1_2)\n",
        "  \n",
        "  conv2_1 = Conv2D(filters = 4,kernel_size=(13, 1), strides = (2, 2), padding='same', activation='relu', kernel_initializer=glorot_normal)(layer_in)\n",
        "  conv2_2 = Conv2D(filters = 4,kernel_size=(3, 1), strides = (2, 2), padding='same', activation='relu', kernel_initializer=glorot_normal)(conv2_1)\n",
        "  conv2_3 = Conv2D(filters = 4,kernel_size=(1, 1), strides = (2, 2), padding='same', activation='relu', kernel_initializer=glorot_normal)(conv2_2)\n",
        "\n",
        "  conv3_1 = Conv2D(filters = 4, kernel_size=(7, 1), strides = (2, 2), padding='same', activation='relu', kernel_initializer=glorot_normal)(layer_in)\n",
        "  conv3_2 = Conv2D(filters = 4, kernel_size=(5, 1), strides = (2, 2), padding='same', activation='relu', kernel_initializer=glorot_normal)(conv3_1)\n",
        "  conv3_3 = Conv2D(filters = 4, kernel_size=(1, 1), strides = (2, 2), padding='same', activation='relu', kernel_initializer=glorot_normal)(conv3_2)\n",
        "  \n",
        "  \n",
        "  layer_out = concatenate([conv1_3, conv2_3, conv3_3], axis=-1)\n",
        "  return layer_out\n",
        " \n",
        "\n",
        "visible = Input(shape=input_shape)\n",
        "layer = naive_inception_module(visible)\n",
        "\n",
        "flatten = Flatten()(layer)\n",
        "dense1 = Dense(128, kernel_initializer=glorot_normal, activation='relu')(flatten)\n",
        "drop1 = Dropout(0.25)(dense1)\n",
        "dense2 = Dense(128, kernel_initializer=glorot_normal, activation='relu')(drop1)\n",
        "dense3 = Dense(2, kernel_initializer=glorot_normal, activation = 'softmax')(dense2)\n",
        "\n",
        "model = Model(inputs=visible, outputs=dense3)\n",
        "\n",
        "model.summary()"
      ],
      "execution_count": null,
      "outputs": [
        {
          "output_type": "stream",
          "text": [
            "Model: \"model_3\"\n",
            "__________________________________________________________________________________________________\n",
            "Layer (type)                    Output Shape         Param #     Connected to                     \n",
            "==================================================================================================\n",
            "input_4 (InputLayer)            [(None, 133, 108, 1) 0                                            \n",
            "__________________________________________________________________________________________________\n",
            "conv2d_24 (Conv2D)              (None, 67, 54, 4)    44          input_4[0][0]                    \n",
            "__________________________________________________________________________________________________\n",
            "conv2d_27 (Conv2D)              (None, 67, 54, 4)    56          input_4[0][0]                    \n",
            "__________________________________________________________________________________________________\n",
            "conv2d_30 (Conv2D)              (None, 67, 54, 4)    32          input_4[0][0]                    \n",
            "__________________________________________________________________________________________________\n",
            "conv2d_25 (Conv2D)              (None, 34, 27, 4)    84          conv2d_24[0][0]                  \n",
            "__________________________________________________________________________________________________\n",
            "conv2d_28 (Conv2D)              (None, 34, 27, 4)    52          conv2d_27[0][0]                  \n",
            "__________________________________________________________________________________________________\n",
            "conv2d_31 (Conv2D)              (None, 34, 27, 4)    84          conv2d_30[0][0]                  \n",
            "__________________________________________________________________________________________________\n",
            "conv2d_26 (Conv2D)              (None, 17, 14, 4)    20          conv2d_25[0][0]                  \n",
            "__________________________________________________________________________________________________\n",
            "conv2d_29 (Conv2D)              (None, 17, 14, 4)    20          conv2d_28[0][0]                  \n",
            "__________________________________________________________________________________________________\n",
            "conv2d_32 (Conv2D)              (None, 17, 14, 4)    20          conv2d_31[0][0]                  \n",
            "__________________________________________________________________________________________________\n",
            "concatenate_3 (Concatenate)     (None, 17, 14, 12)   0           conv2d_26[0][0]                  \n",
            "                                                                 conv2d_29[0][0]                  \n",
            "                                                                 conv2d_32[0][0]                  \n",
            "__________________________________________________________________________________________________\n",
            "flatten_3 (Flatten)             (None, 2856)         0           concatenate_3[0][0]              \n",
            "__________________________________________________________________________________________________\n",
            "dense_9 (Dense)                 (None, 128)          365696      flatten_3[0][0]                  \n",
            "__________________________________________________________________________________________________\n",
            "dropout_3 (Dropout)             (None, 128)          0           dense_9[0][0]                    \n",
            "__________________________________________________________________________________________________\n",
            "dense_10 (Dense)                (None, 128)          16512       dropout_3[0][0]                  \n",
            "__________________________________________________________________________________________________\n",
            "dense_11 (Dense)                (None, 2)            258         dense_10[0][0]                   \n",
            "==================================================================================================\n",
            "Total params: 382,878\n",
            "Trainable params: 382,878\n",
            "Non-trainable params: 0\n",
            "__________________________________________________________________________________________________\n"
          ],
          "name": "stdout"
        }
      ]
    },
    {
      "cell_type": "code",
      "metadata": {
        "id": "ujiPDEfUioT6",
        "colab": {
          "base_uri": "https://localhost:8080/",
          "height": 953
        },
        "outputId": "81fc9a4a-c88e-4756-bd49-a336c845eb91"
      },
      "source": [
        "plot_model(model)"
      ],
      "execution_count": null,
      "outputs": [
        {
          "output_type": "execute_result",
          "data": {
            "image/png": "[encoded data removed]",
            "text/plain": [
              "<IPython.core.display.Image object>"
            ]
          },
          "metadata": {
            "tags": []
          },
          "execution_count": 10
        }
      ]
    },
    {
      "cell_type": "code",
      "metadata": {
        "id": "GHRn8POV2pwt"
      },
      "source": [
        "adam = optimizers.Adam()\n",
        "adadelta = optimizers.Adadelta()\n",
        "nadam = optimizers.Nadam()\n",
        "sgd = optimizers.SGD()\n",
        "model.compile(\n",
        "    loss = 'categorical_crossentropy',\n",
        "    optimizer = nadam,\n",
        "    metrics = ['accuracy'])"
      ],
      "execution_count": null,
      "outputs": []
    },
    {
      "cell_type": "code",
      "metadata": {
        "id": "02-Z7PLg2rx2",
        "colab": {
          "base_uri": "https://localhost:8080/",
          "height": 69
        },
        "outputId": "0d5ffa64-e890-4a5a-f341-a15a7149baa2"
      },
      "source": [
        "batch_size = 256\n",
        "num_classes = 2\n",
        "main_dir = '/content/drive/-/modeling/PFclass'\n",
        "train_data_dir = main_dir + '/train'\n",
        "val_data_dir = main_dir + '/val'\n",
        "test_data_dir = main_dir + '/test'\n",
        "\n",
        "train_datagen = ImageDataGenerator(rescale=1./255)\n",
        "val_datagen = ImageDataGenerator(rescale=1./255)\n",
        "test_datagen = ImageDataGenerator(rescale=1./255)\n",
        "\n",
        "train_data_generator = train_datagen.flow_from_directory(\n",
        "    directory = train_data_dir,\n",
        "    target_size = (img_width, img_height),\n",
        "    color_mode = 'grayscale',\n",
        "    classes = ['point', 'flow'],\n",
        "    class_mode = 'categorical',\n",
        "    batch_size = batch_size,\n",
        "    shuffle = True\n",
        ")\n",
        "\n",
        "validation_data_generator = val_datagen.flow_from_directory(\n",
        "    directory = val_data_dir,\n",
        "    target_size = (img_width, img_height),\n",
        "    color_mode = 'grayscale',\n",
        "    classes = ['point', 'flow'],\n",
        "    class_mode = 'categorical',\n",
        "    batch_size = batch_size,\n",
        "    shuffle = True\n",
        ")\n",
        "\n",
        "test_data_generator = test_datagen.flow_from_directory(\n",
        "    directory = test_data_dir,\n",
        "    target_size = (img_width, img_height),\n",
        "    color_mode = 'grayscale',\n",
        "    classes = ['point', 'flow'],\n",
        "    class_mode = 'categorical',\n",
        "    batch_size = batch_size,\n",
        "    shuffle = True\n",
        ")"
      ],
      "execution_count": null,
      "outputs": [
        {
          "output_type": "stream",
          "text": [
            "Found 10697 images belonging to 2 classes.\n",
            "Found 2292 images belonging to 2 classes.\n",
            "Found 2292 images belonging to 2 classes.\n"
          ],
          "name": "stdout"
        }
      ]
    },
    {
      "cell_type": "code",
      "metadata": {
        "id": "X5u2xDQO5QUL",
        "colab": {
          "base_uri": "https://localhost:8080/",
          "height": 381
        },
        "outputId": "f497ad33-06b8-428d-ba54-6983d438378e"
      },
      "source": [
        "%%time\n",
        "nb_train_samples = 10697\n",
        "nb_val_samples = 2292\n",
        "epochs = 50\n",
        "callbacks = [\n",
        "             keras.callbacks.ModelCheckpoint(\"my_model.h5\", monitor = 'val_accuracy', save_best_only=True, save_weights_only=False, mode='auto'),\n",
        "             keras.callbacks.EarlyStopping(monitor='val_accuracy', patience=1)\n",
        "             ]\n",
        "history = model.fit_generator(\n",
        "    train_data_generator,\n",
        "    steps_per_epoch = nb_train_samples//batch_size,\n",
        "    epochs = epochs,\n",
        "    validation_data = validation_data_generator,\n",
        "    validation_steps = nb_val_samples//batch_size,\n",
        "    callbacks = callbacks\n",
        "    )\n",
        "#model.save_weight(model_weight_name)"
      ],
      "execution_count": null,
      "outputs": [
        {
          "output_type": "stream",
          "text": [
            "WARNING:tensorflow:From <timed exec>:14: Model.fit_generator (from tensorflow.python.keras.engine.training) is deprecated and will be removed in a future version.\n",
            "Instructions for updating:\n",
            "Please use Model.fit, which supports generators.\n",
            "Epoch 1/50\n",
            "41/41 [==============================] - 10539s 257s/step - loss: 0.6017 - accuracy: 0.6771 - val_loss: 0.3481 - val_accuracy: 0.9126\n",
            "Epoch 2/50\n",
            "41/41 [==============================] - 32s 771ms/step - loss: 0.2926 - accuracy: 0.8899 - val_loss: 0.1332 - val_accuracy: 0.9590\n",
            "Epoch 3/50\n",
            "41/41 [==============================] - 31s 768ms/step - loss: 0.1053 - accuracy: 0.9687 - val_loss: 0.0513 - val_accuracy: 0.9810\n",
            "Epoch 4/50\n",
            "41/41 [==============================] - 33s 794ms/step - loss: 0.0394 - accuracy: 0.9882 - val_loss: 0.0207 - val_accuracy: 0.9932\n",
            "Epoch 5/50\n",
            "41/41 [==============================] - 32s 775ms/step - loss: 0.0188 - accuracy: 0.9949 - val_loss: 0.0137 - val_accuracy: 0.9961\n",
            "Epoch 6/50\n",
            "41/41 [==============================] - 32s 769ms/step - loss: 0.0097 - accuracy: 0.9983 - val_loss: 0.0094 - val_accuracy: 0.9971\n",
            "Epoch 7/50\n",
            "41/41 [==============================] - 32s 771ms/step - loss: 0.0065 - accuracy: 0.9985 - val_loss: 0.0055 - val_accuracy: 0.9980\n",
            "Epoch 8/50\n",
            "41/41 [==============================] - 32s 769ms/step - loss: 0.0037 - accuracy: 0.9994 - val_loss: 0.0045 - val_accuracy: 0.9980\n",
            "CPU times: user 2min 3s, sys: 24.8 s, total: 2min 28s\n",
            "Wall time: 3h 3min 27s\n"
          ],
          "name": "stdout"
        }
      ]
    },
    {
      "cell_type": "code",
      "metadata": {
        "id": "BRTfbW_DcAZB"
      },
      "source": [
        "y_pred = []\n",
        "y_true = []"
      ],
      "execution_count": null,
      "outputs": []
    },
    {
      "cell_type": "code",
      "metadata": {
        "id": "1Mv0FbwTMngE"
      },
      "source": [
        "rad2 = '/content/drive/-modeling/PFclass/test/flow'\n",
        "rad2_list = []\n",
        "for root, dirs, files in os.walk(\"/content/drive/-/modeling/PFclass/test/flow\"):\n",
        "    for file in files:\n",
        "        if file.endswith(\".png\"):\n",
        "            rad2_list.append(os.path.join(root, file))\n",
        "for img in rad2_list:\n",
        "  img_path = img\n",
        "  img = image.load_img(img_path,color_mode='grayscale', target_size=(img_width, img_height))\n",
        "  img_tensor = image.img_to_array(img)\n",
        "  img_tensor = np.expand_dims(img_tensor, axis=0)\n",
        "  img_tensor /= 255.\n",
        "  x = image.img_to_array(img)\n",
        "  x = np.expand_dims(x, axis=0)\n",
        "  images = np.vstack([x])\n",
        "  classes = model.predict(images)\n",
        "  y_pred.append(classes.argmax())\n",
        "  y_true.append(1)"
      ],
      "execution_count": null,
      "outputs": []
    },
    {
      "cell_type": "code",
      "metadata": {
        "id": "zogrqZNLbteO"
      },
      "source": [
        "rad3 = '/content/drive/-/modeling/PFclass/test/point'\n",
        "rad3_list = []\n",
        "for root, dirs, files in os.walk(\"/content/drive/-/modeling/PFclass/test/point\"):\n",
        "    for file in files:\n",
        "        if file.endswith(\".png\"):\n",
        "            rad3_list.append(os.path.join(root, file))\n",
        "for img in rad3_list:\n",
        "  img_path = img\n",
        "  img = image.load_img(img_path,color_mode='grayscale', target_size=(img_width, img_height))\n",
        "  img_tensor = image.img_to_array(img)\n",
        "  img_tensor = np.expand_dims(img_tensor, axis=0)\n",
        "  img_tensor /= 255.\n",
        "  x = image.img_to_array(img)\n",
        "  x = np.expand_dims(x, axis=0)\n",
        "  images = np.vstack([x])\n",
        "  classes = model.predict(images)\n",
        "  #print(\"Predicted class is:\",classes)\n",
        "  y_pred.append(classes.argmax())\n",
        "  y_true.append(0)"
      ],
      "execution_count": null,
      "outputs": []
    },
    {
      "cell_type": "code",
      "metadata": {
        "id": "NBRTR2lAcH5G",
        "colab": {
          "base_uri": "https://localhost:8080/",
          "height": 278
        },
        "outputId": "51237a8a-6898-427e-d65e-194b46ea0713"
      },
      "source": [
        "from sklearn.metrics import ConfusionMatrixDisplay\n",
        "disp  = ConfusionMatrixDisplay(confusion_matrix(np.array(y_true, dtype=int), np.array(y_pred, dtype = int)), display_labels=['flow', 'point',] )\n",
        "disp.plot(cmap=plt.cm.Blues, values_format='d')\n",
        "plt.show()"
      ],
      "execution_count": null,
      "outputs": [
        {
          "output_type": "display_data",
          "data": {
            "image/png": "[encoded data removed]",
            "text/plain": [
              "<Figure size 432x288 with 2 Axes>"
            ]
          },
          "metadata": {
            "tags": [],
            "needs_background": "light"
          }
        }
      ]
    }
  ]
}