{
  "nbformat": 4,
  "nbformat_minor": 0,
  "metadata": {
    "colab": {
      "name": "СоздМодДанн.ipynb",
      "provenance": [],
      "collapsed_sections": [],
      "toc_visible": true
    },
    "kernelspec": {
      "name": "python3",
      "display_name": "Python 3"
    }
  },
  "cells": [
    {
      "cell_type": "markdown",
      "metadata": {
        "id": "46Ki3juK4wR0"
      },
      "source": [
        "## **Подключаем Google Drive**"
      ]
    },
    {
      "cell_type": "code",
      "metadata": {
        "id": "PG95GnEp22au"
      },
      "source": [
        "from google.colab import drive\n",
        "drive.mount('/content/drive')"
      ],
      "execution_count": null,
      "outputs": []
    },
    {
      "cell_type": "code",
      "metadata": {
        "id": "1MLyBrnQ5Jso"
      },
      "source": [
        "import os\n",
        "import sys\n",
        "\n",
        "import numpy as np\n",
        "import pandas as pd\n",
        "import scipy.io\n",
        "import h5py\n",
        "import matplotlib.pyplot as plt\n",
        "from matplotlib.ticker import MultipleLocator, FormatStrFormatter, MaxNLocator\n",
        "from matplotlib.colors import BoundaryNorm\n",
        "from PIL import Image\n",
        "import matplotlib.patches as mpatches"
      ],
      "execution_count": null,
      "outputs": []
    },
    {
      "cell_type": "code",
      "metadata": {
        "id": "pFBozH1eQ5Aa"
      },
      "source": [
        "class ComputingPanel():\n",
        "  \"\"\"Класс для рассчета корреляционной панели\"\"\"\n",
        "\n",
        "  def __init__(self, alpha, beta, wave, fs, mu, sigma):\n",
        "    self.alpha = alpha\n",
        "    self.beta = beta\n",
        "    self.wave = wave\n",
        "    self.fs = fs\n",
        "    self.mu = mu\n",
        "    self.sigma = sigma\n",
        "  \n",
        "  def gcc_phat(self, sig, refsig, fs=1, max_tau=512, interp=1, freq=0, n=1):\n",
        "    \"\"\"Возвращает модуль комплексного числа\"\"\"\n",
        "    if n != None:\n",
        "      n = sig.shape[0] + refsig.shape[0]\n",
        "    SIG = np.fft.fft(sig, n=n)\n",
        "    REFSIG = np.fft.fft(refsig, n=n)\n",
        "    R = SIG[freq:] * np.conj(REFSIG[freq:])\n",
        "    cc = np.fft.ifft(R / np.abs(R), interp * n)\n",
        "    max_shift = int(interp * n / 2)\n",
        "    if max_tau:\n",
        "      max_shift = np.minimum(int(interp * fs * max_tau), max_shift)\n",
        "    cc = np.concatenate((cc[-max_shift:], cc[:max_shift + 1]))\n",
        "    shift = np.argmax(np.abs(cc)) - max_shift\n",
        "    tau = shift / float(interp * fs)\n",
        "    return tau, np.abs(cc)\n",
        "\n",
        "  def gcc_phat_r(self, sig, refsig, fs=1, max_tau=512, interp=1, freq=50, n=1):\n",
        "    \"\"\"Возвращает реальную часть комплексного числа\"\"\"\n",
        "    if n != None:\n",
        "        n = sig.shape[0] + refsig.shape[0]\n",
        "    SIG = np.fft.rfft(sig, n=n)\n",
        "    REFSIG = np.fft.rfft(refsig, n=n)\n",
        "    R = SIG[:freq] * np.conj(REFSIG[:freq])\n",
        "    cc = np.fft.irfft(R / np.abs(R), interp * n)\n",
        "    max_shift = int(interp * n / 2)\n",
        "    if max_tau:\n",
        "        max_shift = np.minimum(int(interp * fs * max_tau), max_shift)\n",
        "    cc = np.concatenate((cc[-max_shift:], cc[:max_shift + 1]))\n",
        "    shift = np.argmax(np.abs(cc)) - max_shift\n",
        "    tau = shift / float(interp * fs)\n",
        "    return tau, cc\n",
        "\n",
        "  def delay_compute(self, r, sens_pos, sour_pos, delta_sens, c = 1450):\n",
        "    \"\"\"Считает задержку(геометрически)\"\"\"\n",
        "    s_1 = np.sqrt(r**2 + (sens_pos - sour_pos)**2)\n",
        "    s_2 = np.sqrt(r**2 + (sens_pos - sour_pos + delta_sens)**2)\n",
        "    tau = (s_1 - s_2) / c\n",
        "    return tau\n",
        "  \n",
        "  def cross_count(self, k1, k2, k3, tau, complexs = True):\n",
        "    \"\"\"Считает модельную задержку\"\"\"\n",
        "    attenuation = np.exp(-self.alpha * np.sqrt((k1 - k2) ** 2 + k3 ** 2))\n",
        "    sig = (self.wave*attenuation + self.beta * np.random.normal(self.mu, self.sigma, len(self.wave)))\n",
        "    refsig = (np.roll(self.wave, int(tau * self.fs)) * attenuation + \n",
        "              self.beta * np.random.normal(self.mu, self.sigma, len(self.wave)))\n",
        "    if complexs:\n",
        "      tau, cc = self.gcc_phat(sig = sig, refsig = refsig)\n",
        "    else:\n",
        "      tau, cc = self.gcc_phat_r(sig = sig, refsig = refsig)\n",
        "    return tau, cc\n",
        "  \n",
        "  def on_each_point(self, deep_range, pair_of_sensor, sourse_form, flow = False):\n",
        "    kesy = sorted(pair_of_sensor.keys())\n",
        "    cross_corr_for_each_pair_of_sensor=[]\n",
        "    for key in kesy:\n",
        "      values = pair_of_sensor[key]\n",
        "      cross_corr = []\n",
        "      for sours_pos in sourse_form:\n",
        "        cross_form = []\n",
        "        for sens_pos in deep_range:\n",
        "          tau = self.delay_compute(r = sours_pos[1],\n",
        "                                 sens_pos = sens_pos,\n",
        "                                 sour_pos = sours_pos[0],\n",
        "                                 delta_sens = values)\n",
        "          delay, cc = self.cross_count(k1 = sens_pos, \n",
        "                                       k2 = sours_pos[0],\n",
        "                                       k3 = sours_pos[1],\n",
        "                                       tau = tau)\n",
        "          if flow == True:\n",
        "            cc_new = []\n",
        "            ma = max(cc)\n",
        "            st = np.std(cc)\n",
        "            ind = cc.tolist().index(max(cc))\n",
        "            shift = int((ind-len(cc)/2)/1.5)\n",
        "            print(ind, shift)\n",
        "            cc = np.roll(cc, -shift)\n",
        "            for k in cc:\n",
        "              if k > ma/2-ma/7:\n",
        "                cc_new.append(st)\n",
        "              else:\n",
        "                cc_new.append(k)\n",
        "            cc = np.array(cc_new)\n",
        "          else:\n",
        "            cc = np.array(cc)\n",
        "          cross_form.append(cc)\n",
        "        cross_form = np.array(cross_form)\n",
        "        cross_corr.append(cross_form)\n",
        "      cross_corr = np.array(cross_corr)\n",
        "      cross_corr_for_each_pair_of_sensor.append(np.mean(np.array(cross_corr), axis=0))\n",
        "    return np.array(cross_corr_for_each_pair_of_sensor)"
      ],
      "execution_count": null,
      "outputs": []
    },
    {
      "cell_type": "code",
      "metadata": {
        "id": "Jd1iEZ9Ka3Pf"
      },
      "source": [
        "class VisualizePanel():\n",
        "  \"\"\"Класс отвечающий за визуализацию панелей\"\"\"\n",
        "  def func_picture(self, arrays_list, Fs = 1, x_tick=None, y_tick=None,\n",
        "                     x_size=15, y_size=10, tick_size=10,\n",
        "                     name_size=20, name_oy_size=20, name_ox_size=20, file=None,\n",
        "                     name_main=None, name_oy=None, name_ox=None, look_picture = False):\n",
        "        \"\"\"\n",
        "        @param arrays_list: список временных рядов\n",
        "        @param x_tick: шаг по оси Ох \n",
        "        @param y_tick: шаг по оси Oy\n",
        "        @param x_size: размер графика по Ох\n",
        "        @param y_size: размер графика по Оу\n",
        "        @param tick_size: размер подписей отсчетов по осям\n",
        "        @param name_size: размер подписи названия графика\n",
        "        @param name_oy_size: размер подписи названия оси Оу\n",
        "        @param name_ox_size: размер подписи названия оси Ох\n",
        "        @param file: путь (D://названию.png)\n",
        "        @param name_main: название графика\n",
        "        @param name_oy: название оси Оу\n",
        "        @param name_ox: назание оси Ох\n",
        "        \"\"\"\n",
        "        fig, ax = plt.subplots(figsize=(x_size, y_size))\n",
        "        for k_y in arrays_list:\n",
        "            k_x = np.arange(0, len(k_y)/Fs,1/Fs)\n",
        "            ax.plot(k_x, k_y)\n",
        "            xax = ax.xaxis\n",
        "            yax = ax.yaxis\n",
        "            xlab = xax.get_ticklabels()\n",
        "            ylab = yax.get_ticklabels()\n",
        "            if ((x_tick != None) or (y_tick != None)):\n",
        "                xmajorFormatter = FormatStrFormatter('%d')\n",
        "                ymajorFormatter = FormatStrFormatter('%0.3f')\n",
        "                xmajorLocator = MultipleLocator(x_tick)\n",
        "                ymajorLocator = MultipleLocator(y_tick)\n",
        "                xax.set_major_locator(xmajorLocator)\n",
        "                xax.set_major_formatter(xmajorFormatter)\n",
        "                yax.set_major_locator(ymajorLocator)\n",
        "                yax.set_major_formatter(ymajorFormatter)\n",
        "            yax.grid(True, which='major', color='grey', alpha=0.5)\n",
        "\n",
        "            for label in xlab:\n",
        "                label.set_fontsize(tick_size)\n",
        "                #label.set_color('blue')\n",
        "                label.set_rotation(tick_size)\n",
        "            for label in ylab:\n",
        "                label.set_fontsize(tick_size)\n",
        "            ax.set_title(label=name_main, fontsize=name_size)\n",
        "            ax.set_ylabel(ylabel=name_oy, fontsize=name_oy_size)\n",
        "            ax.set_xlabel(xlabel=name_ox, fontsize=name_ox_size)\n",
        "            ax.grid(True, which='major', color='grey', linestyle='dashed', alpha=0.5)\n",
        "        if file is not None:\n",
        "            fig.savefig(file)\n",
        "        if look_picture is True:\n",
        "            plt.show()\n",
        "            plt.close()\n",
        "\n",
        "  def crop(self, image_path, coords, saved_location):\n",
        "        \"\"\"\n",
        "        @param image_path: The path to the image to edit\n",
        "        @param coords: A tuple of x/y coordinates (x1, y1, x2, y2)\n",
        "        @param saved_location: Path to save the cropped image\n",
        "        \"\"\"\n",
        "        image_obj = Image.open(image_path)\n",
        "        cropped_image = image_obj.crop(coords)\n",
        "        cropped_image.save(saved_location)\n",
        "\n",
        "  def plot_panel(self, corr_list, deep_range, fname, max_v, info = True, ticks = False,\n",
        "                   title = '', xlabel = 'задержка, с', ylabel = 'глубина, м',\n",
        "                   crop = False, coords = (61, 35, 450, 267), figsize_x = 10, figsize_y = 5, legend = None, my_dpi = None):\n",
        "      \"\"\"\n",
        "      Визуализация корреляционной панели:\n",
        "\n",
        "      @param info: включить названия по осям\n",
        "      @param ticks: отключить разметку по осям\n",
        "      @param crop: обрезать изображение\n",
        "      \"\"\"\n",
        "      deep_list = deep_range.tolist()\n",
        "      Fs = 117187.5\n",
        "      z = np.array(corr_list)\n",
        "      y = (np.array([deep_list] * len(corr_list[0]))).transpose()\n",
        "      x = np.array([[k / Fs for k in range(-int(len(y[0]) / 2), int(len(y[0]) / 2) + 1)]] * len(y))\n",
        "      print(len(x), len(x[0]), len(y), len(y[0]))\n",
        "      z = z[:-1, :-1]\n",
        "      #levels = MaxNLocator(nbins=500).tick_values(z.min(), z.max())\n",
        "      levels = MaxNLocator(nbins=500).tick_values(0, max_v)\n",
        "      cmap = plt.get_cmap('Spectral_r', 1000)\n",
        "      norm = BoundaryNorm(levels, ncolors=cmap.N, clip=True)\n",
        "      fig, ax0 = plt.subplots(figsize=(figsize_x, figsize_y))\n",
        "      im = ax0.pcolormesh(x, y, z, cmap=cmap, norm=norm)\n",
        "      if info:\n",
        "        fig.colorbar(im, ax=ax0)\n",
        "        ax0.set_title(title)\n",
        "        ax0.set_xlabel(xlabel, fontsize = 10)\n",
        "        ax0.set_ylabel(ylabel, fontsize = 10)\n",
        "        #fig = plt.gca()\n",
        "        #fig1 = plt.gcf()\n",
        "      if ticks:\n",
        "        plt.xticks([])\n",
        "        plt.yticks([])\n",
        "      if legend != None:\n",
        "        line,  = ax0.plot([], label = legend, linestyle = 'None')\n",
        "        ax0.legend(fontsize = 14, facecolor = 'white', edgecolor = 'None',\n",
        "                   markerfirst=False, loc = 'upper left' )\n",
        "      if my_dpi != None:\n",
        "        plt.savefig(fname=fname, dpi = my_dpi)\n",
        "      else:\n",
        "        plt.savefig(fname=fname)\n",
        "      #plt.show()\n",
        "      if crop:\n",
        "        self.crop(image_path=fname, coords=coords, saved_location=fname)\n",
        "      plt.close()\n",
        "\n",
        "  def spectrogramm_real(self, cross_corr,deep_range,fname,max_v=None, min_v=None, chast = None):\n",
        "      \"\"\"Построить спектрограмму\"\"\"\n",
        "      fft_list = {}\n",
        "      i = 0\n",
        "      for k in cross_corr:\n",
        "          fft_list.update({deep_range[i]: np.fft.rfft(k * np.kaiser(len(k), 8))})\n",
        "          i += 1\n",
        "      print('Строиться спектр')\n",
        "      z = np.array([abs(k) for k in fft_list.values()])\n",
        "      m = 0\n",
        "      n = 0\n",
        "      l = 0\n",
        "      print(np.array(z).shape)\n",
        "      for k in z:\n",
        "        if k.max() > m:\n",
        "          m = k.max()\n",
        "          l = n\n",
        "        n += 1\n",
        "      print(m, l)\n",
        "      if max_v == None:\n",
        "        max_v = 1\n",
        "        min_v = 0\n",
        "        z = z/m\n",
        "      y = (np.array([sorted([float(k) for k in list(fft_list.keys())], reverse=True)] * \n",
        "                    len(fft_list[deep_range[0]]))).transpose()\n",
        "      x = np.array([[k for k in range(0, int(len(y[0])))]] * len(y))\n",
        "\n",
        "      if chast != None:\n",
        "        x = np.array([k[:chast] for k in x])\n",
        "        y = np.array([k[:chast] for k in y])\n",
        "        z = np.array([k[:chast] for k in z])\n",
        "      print(len(x), len(x[0]), len(y), len(y[0]), len(z), len(z[0]))\n",
        "\n",
        "      z = z[:-1, :-1]\n",
        "      levels = MaxNLocator(nbins=100).tick_values(min_v, max_v)\n",
        "      cmap = plt.get_cmap('Spectral_r', 1000)\n",
        "      norm = BoundaryNorm(levels, ncolors=cmap.N, clip=True)\n",
        "\n",
        "      fig, ax0 = plt.subplots(figsize=(7, 5))\n",
        "      im = ax0.pcolormesh(x, y, z, cmap=cmap, norm=norm)\n",
        "      fig.colorbar(im, ax=ax0)\n",
        "      \"\"\"\n",
        "      xax = ax0.xaxis\n",
        "      yax = ax0.yaxis\n",
        "      xlab = xax.get_ticklabels()\n",
        "      ylab = yax.get_ticklabels()\n",
        "      tick_size = 3\n",
        "      for label in xlab:\n",
        "        label.set_fontsize(tick_size)\n",
        "      for label in ylab:\n",
        "        label.set_fontsize(tick_size)\n",
        "      \"\"\"\n",
        "      #ax0.tick_params(direction='out', labelsize = 5)\n",
        "      ax0.set_title(f' ')\n",
        "      ax0.set_xlabel('частота, кГц', fontsize=12)\n",
        "      ax0.set_ylabel('глубина, м', fontsize=12)\n",
        "      \n",
        "      plt.savefig(fname)\n",
        "      plt.close()\n",
        "      return l\n",
        "    \n",
        "  def spectrogramm_max_value(self, cross_corr,deep_range):\n",
        "    \"\"\"Посчитать максимальное значение мощности\"\"\"\n",
        "    fft_list = {}\n",
        "    i = 0\n",
        "    for k in cross_corr:\n",
        "        fft_list.update({deep_range[i]: np.fft.rfft(k * np.kaiser(len(k), 8))})\n",
        "        i += 1\n",
        "    print('Строиться спектр')\n",
        "    z = np.array([abs(k) for k in fft_list.values()])\n",
        "    \n",
        "    m = 0\n",
        "    n = 0\n",
        "    l = 0\n",
        "    print(np.array(z).shape)\n",
        "    for k in z:\n",
        "      if k.max() > m:\n",
        "        m = k.max()\n",
        "        l = n\n",
        "      n += 1\n",
        "    print(m, l)\n",
        "    return l"
      ],
      "execution_count": null,
      "outputs": []
    },
    {
      "cell_type": "markdown",
      "metadata": {
        "id": "OcsBZy-S8qgH"
      },
      "source": [
        "# **Задаем параметры источника**"
      ]
    },
    {
      "cell_type": "markdown",
      "metadata": {
        "id": "5JYAHL5G9BB1"
      },
      "source": [
        "**Задаем форму источника**\n"
      ]
    },
    {
      "cell_type": "code",
      "metadata": {
        "id": "gj2sK1yc-BLR"
      },
      "source": [
        "\"\"\"Создаем словарь источников с разлиными формами\"\"\"\n",
        "#первое значение это от ствола скважины, второе по глубине\n",
        "form_point_array = np.array([[0, 0.0]])\n",
        "forms_list = {\n",
        "    'point2': [[np.arange(0.0, 0.03, 0.01), np.arange(0.00, 0.03, 0.01)]],                  #2см*2cm\n",
        "    'point5': [[np.arange(0.0, 0.06, 0.01), np.arange(-0.02, 0.04, 0.01)]],                 #5cm*5cm\n",
        "    'point10': [[np.arange(0.0, 0.11, 0.01), np.arange(-0.05, 0.06, 0.01)]],                #10cm*10cm\n",
        "    'plast1': [[np.arange(0.0, 0.5, 0.1), np.arange(-0.5, 0.6, 0.1)]],                      #1 вид: 1м * 0.5м\n",
        "    'plast2': [[np.arange(0.0, 1.0, 0.1), np.arange(0, 0.1, 0.01)]],                        #2 вид: 0.1м * 1м\n",
        "    'plast3': [[np.arange(0.0, 1.0, 0.1), np.arange(-0.5, 0.6, 0.1) ]],                     #3 вид: 1м * 1м\n",
        "    'plast4': [[np.arange(0.0, 1.0, 0.1), np.arange(-0.25, 0.25, 0.1)]],                    #4 вид: 0.5 * 1м\n",
        "    'line1': [[np.arange(0.0, 0.3, 0.1), np.arange(-0.5, 0.6, 0.1)]],                       #1 вид: 1м * 0.2м\n",
        "    'line2': [[np.arange(0.0, 1.0, 0.1), np.arange(-0.25, 0.25, 0.1)]],                     #2 вид: 0.5м * 0.2м\n",
        "    'line3': [[np.arange(0.0, 0.2, 0.1), np.arange(-0.5, 0.6, 0.1)]],                       #3 вид: 1м * 0.1м\n",
        "    'line4': [[np.arange(0.0, 0.2, 0.1), np.arange(-0.25, 0.25, 0.1)]],                     #4 вид: 0.5м * 0.1м\n",
        "}\n",
        "form_names = list(forms_list.keys())"
      ],
      "execution_count": null,
      "outputs": []
    },
    {
      "cell_type": "code",
      "metadata": {
        "id": "iL5pQ5IcCMWH"
      },
      "source": [
        "form_list = []\n",
        "index_name =0 #здесь выбор источника\n",
        "for array in forms_list[form_names[index_name]]:\n",
        "  for dist in array[0]:\n",
        "    form_list = form_list + [[dist, deep] for deep in array[1]]\n",
        "form_array = np.array(form_list)"
      ],
      "execution_count": null,
      "outputs": []
    },
    {
      "cell_type": "markdown",
      "metadata": {
        "id": "rrS7PvQfiMOb"
      },
      "source": [
        "**Пропишем общий путь к каталогу**"
      ]
    },
    {
      "cell_type": "code",
      "metadata": {
        "id": "QQwkx8WbiQyu"
      },
      "source": [
        "path = '/content/drive/My Drive/MagistracyProject'"
      ],
      "execution_count": null,
      "outputs": []
    },
    {
      "cell_type": "markdown",
      "metadata": {
        "id": "A6EIVDNOJvjL"
      },
      "source": [
        "**Задаем остальные параметры источника**"
      ]
    },
    {
      "cell_type": "code",
      "metadata": {
        "id": "btrF0aSR-o3i"
      },
      "source": [
        "a = -10.0\n",
        "b =  10.1\n",
        "d  = 0.2\n",
        "deep_range = np.arange(-10, 10.1, 0.1)            # шаг датч.\n",
        "radian_range = np.arange(0.2, 0.4, 0.05)          # позиц. источн. от ствола\n",
        "sourse_range = np.array([0.0])                    # позиц. источн. по глубине\n",
        "alpha = 0.0                                       # коэф. ослабл сигнала\n",
        "beta = 50                                         # коэф. усил шума\n",
        "mu = 0                                            # мат. ожид \n",
        "sigma = 0.5                                       # дисперс. \n",
        "fs = 117187.5                                     # частота дискр.\n",
        "N = 10                                            # во сколько раз расстояние между источниками увеличить, т.е размер \n",
        "ADC = 2**15                                       # разрядн ацп\n",
        "pair_of_sensor = {'12' : 0.3}"
      ],
      "execution_count": null,
      "outputs": []
    },
    {
      "cell_type": "markdown",
      "metadata": {
        "id": "SfiIRrK2LB0Y"
      },
      "source": [
        "**Выбор аудиофрейма**"
      ]
    },
    {
      "cell_type": "code",
      "metadata": {
        "id": "VNzJG2gMhpGX"
      },
      "source": [
        "df = pd.read_json(os.path.join(path, 'frames.json'))\n",
        "df_flow = df[df.type == 'flow']\n",
        "df_point = df[df.type == 'point']"
      ],
      "execution_count": null,
      "outputs": []
    },
    {
      "cell_type": "markdown",
      "metadata": {
        "id": "fSct6ZsogPAu"
      },
      "source": [
        "# **Для разовых тестов**"
      ]
    },
    {
      "cell_type": "code",
      "metadata": {
        "id": "hnhEU87xghoy"
      },
      "source": [
        "deep_range = np.arange(-10.0, 10.1, 0.5)            # шаг датч.\n",
        "radian_range = np.array([0.2])          # позиц. источн. от ствола\n",
        "sourse_range = np.array([0.0])                    # позиц. источн. по глубине\n",
        "alpha = 0.2                                     # коэф. ослабл сигнала\n",
        "beta = 70                                    # коэф. усил шума\n",
        "mu = 0                                            # мат. ожид \n",
        "sigma = 1                                       # дисперс. \n",
        "fs = 117187.5                                     # частота дискр.\n",
        "N = 10                                            # во сколько раз расстояние между источниками увеличить, т.е размер \n",
        "ADC = 2**15                                       # разрядн ацп\n",
        "pair_of_sensor = {'12' : 0.3}"
      ],
      "execution_count": null,
      "outputs": []
    },
    {
      "cell_type": "code",
      "metadata": {
        "id": "ojcs8AvDgm01"
      },
      "source": [
        "wave = np.array(df_point.iloc[0]['frame'])"
      ],
      "execution_count": null,
      "outputs": []
    },
    {
      "cell_type": "code",
      "metadata": {
        "id": "1fzeCAP5gVKs",
        "colab": {
          "base_uri": "https://localhost:8080/",
          "height": 156
        },
        "outputId": "1ae8e8b9-00ef-49f8-a6ef-74297c80fa46"
      },
      "source": [
        "path_model = os.path.join(path, 'pres')\n",
        "if not os.path.exists(path_model):\n",
        "    os.makedirs(path_model)\n",
        "print(path_model)\n",
        "x = 454 \n",
        "y = 571\n",
        "cp = ComputingPanel(alpha, beta, wave, fs, mu, sigma)\n",
        "for rad in radian_range:\n",
        "  cross_corr_list = []\n",
        "  path_rad = os.path.join(path_model, 'rad {}'.format(round(rad,3)))\n",
        "  print(path_rad)\n",
        "  if not os.path.exists(path_rad):\n",
        "    os.makedirs(path_rad)\n",
        "  for sour in sourse_range:\n",
        "    form = np.array([[d[0] + sour, d[1] + rad] for d in form_array])\n",
        "    cross_corr = cp.on_each_point(deep_range, pair_of_sensor, form, flow = False)\n",
        "    cross_corr_list.append(cross_corr)\n",
        "\n",
        "  i = 0\n",
        "  for k in cross_corr_list:\n",
        "    ds = np.array(k[0])\n",
        "    d = [k[x:y] for k in ds]\n",
        "    \n",
        "    vp = VisualizePanel()\n",
        "    fname = os.path.join(path_rad, str(i) + '.png')\n",
        "    fname_s = os.path.join(path_rad, str(i) + 's.png')\n",
        "    fname_csv = os.path.join(path_rad, str(i) + '.csv')\n",
        "    print(fname)\n",
        "    #l = vp.spectrogramm_real(d, deep_range,fname_s, max_v = None, min_v = 0, chast = 30)\n",
        "    l = vp.spectrogramm_max_value(d, deep_range)\n",
        "    \n",
        "    #обрезка по спектру\n",
        "    obrez = False\n",
        "    if obrez:\n",
        "      sl = slice(l-25, l+25)\n",
        "      d = d[sl]\n",
        "      deep_range_new = deep_range[sl]\n",
        "\n",
        "    d_arr = np.array(d, dtype=np.float16)\n",
        "    print(d_arr.shape)\n",
        "    pd.DataFrame(d_arr).to_csv(fname_csv)\n",
        "\n",
        "    if not obrez:\n",
        "      deep_range_new = deep_range \n",
        "\n",
        "    vp.plot_panel(d_arr, deep_range_new, fname, max_v = 0.1, figsize_x = 10, figsize_y = 7,\n",
        "                  ticks = False, info = True, crop = False, coords = (28,18,161,126), legend = None, my_dpi = None)\n",
        "  \n",
        "    del vp\n",
        "    i += 1\n",
        "del cp"
      ],
      "execution_count": null,
      "outputs": [
        {
          "output_type": "stream",
          "text": [
            "/content/drive/My Drive/MagistracyProject/pres\n",
            "/content/drive/My Drive/MagistracyProject/pres/rad 0.2\n",
            "/content/drive/My Drive/MagistracyProject/pres/rad 0.2/0.png\n",
            "Строиться спектр\n",
            "(41, 59)\n",
            "1.8427267137687244 20\n",
            "(41, 117)\n",
            "41 117 41 117\n"
          ],
          "name": "stdout"
        }
      ]
    },
    {
      "cell_type": "markdown",
      "metadata": {
        "id": "DW3iAW_FYId1"
      },
      "source": [
        "# **Генератор распределенных источников**"
      ]
    },
    {
      "cell_type": "code",
      "metadata": {
        "id": "SoVblA5_tMyk"
      },
      "source": [
        "import shutil\n",
        "shutil.rmtree('/content/drive/My Drive/MagistracyProject/modeling/wave0')"
      ],
      "execution_count": null,
      "outputs": []
    },
    {
      "cell_type": "code",
      "metadata": {
        "id": "QtsJUhLOYOng"
      },
      "source": [
        "deep_range = np.arange(-10.0, 10.1, 0.2)            # шаг датч.\n",
        "radian_range = np.arange(0.2, 1.0, 0.1)          # позиц. источн. от ствола\n",
        "sourse_range = np.array([0.0])                    # позиц. источн. по глубине\n",
        "alpha_arr = np.arange(0.2, 0.4, 0.1)                                     # коэф. ослабл сигнала\n",
        "beta_arr = np.arange(50, 125, 25)                                    # коэф. усил шума\n",
        "mu = 0                                            # мат. ожид \n",
        "sigma = 1                                         # дисперс. \n",
        "fs = 117187.5                                     # частота дискр.\n",
        "N = 10                                            # во сколько раз расстояние между источниками увеличить, т.е размер \n",
        "ADC = 2**15                                       # разрядн ацп\n",
        "pair_of_sensor = {'12' : 0.3}"
      ],
      "execution_count": null,
      "outputs": []
    },
    {
      "cell_type": "code",
      "metadata": {
        "id": "TaaIzTG9Na-l",
        "colab": {
          "base_uri": "https://localhost:8080/",
          "height": 34
        },
        "outputId": "8de07bdb-6a84-4f13-cb68-863a3f4d9be9"
      },
      "source": [
        "2**15"
      ],
      "execution_count": null,
      "outputs": [
        {
          "output_type": "execute_result",
          "data": {
            "text/plain": [
              "32768"
            ]
          },
          "metadata": {
            "tags": []
          },
          "execution_count": 2
        }
      ]
    },
    {
      "cell_type": "code",
      "metadata": {
        "id": "3QGMl4p-kCd_",
        "colab": {
          "base_uri": "https://localhost:8080/",
          "height": 52
        },
        "outputId": "9f9f1028-4b49-44a7-a85f-1b56aba7d5c5"
      },
      "source": [
        "print(alpha_arr.shape, beta_arr.shape, radian_range.shape, df_flow.shape)\n",
        "print(alpha_arr.shape[0]*beta_arr.shape[0]*radian_range.shape[0]*63*7)"
      ],
      "execution_count": null,
      "outputs": [
        {
          "output_type": "stream",
          "text": [
            "(7,) (10,) (8,) (5, 2)\n",
            "8400\n"
          ],
          "name": "stdout"
        }
      ]
    },
    {
      "cell_type": "code",
      "metadata": {
        "id": "6d1KEwpyn4xD",
        "colab": {
          "base_uri": "https://localhost:8080/",
          "height": 34
        },
        "outputId": "fb3025ac-ceb6-43a1-a4ef-956b57e1bf50"
      },
      "source": [
        "np.arange(3,11)"
      ],
      "execution_count": null,
      "outputs": [
        {
          "output_type": "execute_result",
          "data": {
            "text/plain": [
              "array([ 3,  4,  5,  6,  7,  8,  9, 10])"
            ]
          },
          "metadata": {
            "tags": []
          },
          "execution_count": 12
        }
      ]
    },
    {
      "cell_type": "code",
      "metadata": {
        "id": "63P-kLjQk10I"
      },
      "source": [
        "%%time\n",
        "path_model = os.path.join(path, 'modeling')\n",
        "\n",
        "x = 454 \n",
        "y = 571\n",
        "for num_wave in np.arange(0, 60):\n",
        "  wave = np.array(df_flow.iloc[num_wave]['frame'])\n",
        "  for form_index in range(3,11):\n",
        "    form_list = []\n",
        "    index_name = form_index #здесь выбор источника c 3 распределенные\n",
        "    for array in forms_list[form_names[index_name]]:\n",
        "      for dist in array[0]:\n",
        "        form_list = form_list + [[dist, deep] for deep in array[1]]\n",
        "    form_array = np.array(form_list)\n",
        "\n",
        "    for alpha in alpha_arr:\n",
        "      for beta in beta_arr:\n",
        "        cp = ComputingPanel(alpha, beta, wave, fs, mu, sigma)\n",
        "        for rad in radian_range:\n",
        "          try:\n",
        "            deep_range = np.arange(-10.0, 10.1, 0.2)\n",
        "            cross_corr_list = []\n",
        "            path_rad = os.path.join(path_model, 'wave{}/form{}/rad {}/a {}/b {}'.format(num_wave, form_index, round(rad,3), round(alpha, 3), beta))\n",
        "            print(path_rad)\n",
        "            if not os.path.exists(path_rad):\n",
        "              os.makedirs(path_rad)\n",
        "            for sour in sourse_range:\n",
        "              form = np.array([[d[0] + sour, d[1] + rad] for d in form_array])\n",
        "              cross_corr = cp.on_each_point(deep_range, pair_of_sensor, form, flow = False)\n",
        "              cross_corr_list.append(cross_corr)\n",
        "\n",
        "            i = 0\n",
        "            for k in cross_corr_list:\n",
        "              ds = np.array(k[0])\n",
        "              d = [k[x:y] for k in ds]\n",
        "              \n",
        "              vp = VisualizePanel()\n",
        "              fname = os.path.join(path_rad, str(i) + '.png')\n",
        "              fname_s = os.path.join(path_rad, str(i) + 's.png')\n",
        "              fname_csv = os.path.join(path_rad, str(i) + '.csv')\n",
        "              print(fname)\n",
        "              #l = vp.spectrogramm_real(d, deep_range,fname_s, max_v = None, min_v = 0, chast = 30)\n",
        "              l = vp.spectrogramm_max_value(d, deep_range)\n",
        "              \n",
        "              #обрезка по спектру\n",
        "              obrez = True\n",
        "              if obrez:\n",
        "                sl = slice(l-25, l+25)\n",
        "                d = d[sl]\n",
        "                deep_range_new = deep_range[sl]\n",
        "\n",
        "              d_arr = np.array(d, dtype=np.float16)\n",
        "              print(d_arr.shape)\n",
        "              pd.DataFrame(d_arr).to_csv(fname_csv)\n",
        "\n",
        "              if not obrez:\n",
        "                deep_range_new = deep_range \n",
        "\n",
        "              vp.plot_panel(d_arr, deep_range_new, fname, max_v = 0.1, figsize_x = 3, figsize_y = 2,\n",
        "                            ticks = False, info = True, crop = True, coords = (28,18,161,126), legend = None, my_dpi = None)\n",
        "            \n",
        "              del vp\n",
        "              i += 1\n",
        "          except: pass\n",
        "        del cp"
      ],
      "execution_count": null,
      "outputs": []
    },
    {
      "cell_type": "markdown",
      "metadata": {
        "id": "yR4NgF7RWvnm"
      },
      "source": [
        "# **Генератор точечных источников**"
      ]
    },
    {
      "cell_type": "code",
      "metadata": {
        "id": "iOtdWvKnXKfA"
      },
      "source": [
        "deep_range = np.arange(-10.0, 10.1, 0.2)            # шаг датч.\n",
        "radian_range = np.arange(0.2, 1.0, 0.1)          # позиц. источн. от ствола\n",
        "sourse_range = np.array([0.0])                    # позиц. источн. по глубине\n",
        "alpha_arr = np.arange(0.1, 0.4, 0.05)                                     # коэф. ослабл сигнала\n",
        "beta_arr = np.arange(50, 150, 10)                                    # коэф. усил шума\n",
        "mu = 0                                            # мат. ожид \n",
        "sigma = 1                                         # дисперс. \n",
        "fs = 117187.5                                     # частота дискр.\n",
        "N = 10                                            # во сколько раз расстояние между источниками увеличить, т.е размер \n",
        "ADC = 2**15                                       # разрядн ацп\n",
        "pair_of_sensor = {'12' : 0.3}"
      ],
      "execution_count": null,
      "outputs": []
    },
    {
      "cell_type": "code",
      "metadata": {
        "id": "tH2T_UaAXZUw",
        "colab": {
          "base_uri": "https://localhost:8080/",
          "height": 52
        },
        "outputId": "bdb4730b-2c21-4e96-a5ec-b6a0f78ae25e"
      },
      "source": [
        "print(alpha_arr.shape, beta_arr.shape, radian_range.shape, df_point.shape)\n",
        "print(alpha_arr.shape[0]*beta_arr.shape[0]*radian_range.shape[0]*5*3)"
      ],
      "execution_count": null,
      "outputs": [
        {
          "output_type": "stream",
          "text": [
            "(7,) (10,) (8,) (5, 2)\n",
            "8400\n"
          ],
          "name": "stdout"
        }
      ]
    },
    {
      "cell_type": "code",
      "metadata": {
        "id": "ovtZbEIQXc0W"
      },
      "source": [
        "%%time\n",
        "path_model = os.path.join(path, 'modeling/point')\n",
        "\n",
        "x = 454 \n",
        "y = 571\n",
        "for num_wave in np.arange(0, 6):\n",
        "  wave = np.array(df_point.iloc[num_wave]['frame'])\n",
        "  for form_index in range(0, 3):\n",
        "    form_list = []\n",
        "    index_name = form_index #здесь выбор источника c 3 распределенные\n",
        "    for array in forms_list[form_names[index_name]]:\n",
        "      for dist in array[0]:\n",
        "        form_list = form_list + [[dist, deep] for deep in array[1]]\n",
        "    form_array = np.array(form_list)\n",
        "\n",
        "    for alpha in alpha_arr:\n",
        "      for beta in beta_arr:\n",
        "        cp = ComputingPanel(alpha, beta, wave, fs, mu, sigma)\n",
        "        for rad in radian_range:\n",
        "          try:\n",
        "            deep_range = np.arange(-10.0, 10.1, 0.2)\n",
        "            cross_corr_list = []\n",
        "            path_rad = os.path.join(path_model, 'wave{}/form{}/rad {}/a {}/b {}'.format(num_wave, form_index, round(rad,3), round(alpha, 3), beta))\n",
        "            print(path_rad)\n",
        "            if not os.path.exists(path_rad):\n",
        "              os.makedirs(path_rad)\n",
        "            for sour in sourse_range:\n",
        "              form = np.array([[d[0] + sour, d[1] + rad] for d in form_array])\n",
        "              cross_corr = cp.on_each_point(deep_range, pair_of_sensor, form, flow = False)\n",
        "              cross_corr_list.append(cross_corr)\n",
        "\n",
        "            i = 0\n",
        "            for k in cross_corr_list:\n",
        "              ds = np.array(k[0])\n",
        "              d = [k[x:y] for k in ds]\n",
        "              \n",
        "              vp = VisualizePanel()\n",
        "              fname = os.path.join(path_rad, str(i) + '.png')\n",
        "              fname_s = os.path.join(path_rad, str(i) + 's.png')\n",
        "              fname_csv = os.path.join(path_rad, str(i) + '.csv')\n",
        "              print(fname)\n",
        "              #l = vp.spectrogramm_real(d, deep_range,fname_s, max_v = None, min_v = 0, chast = 30)\n",
        "              l = vp.spectrogramm_max_value(d, deep_range)\n",
        "              \n",
        "              #обрезка по спектру\n",
        "              obrez = True\n",
        "              if obrez:\n",
        "                sl = slice(l-25, l+25)\n",
        "                d = d[sl]\n",
        "                deep_range_new = deep_range[sl]\n",
        "\n",
        "              d_arr = np.array(d, dtype=np.float16)\n",
        "              print(d_arr.shape)\n",
        "              pd.DataFrame(d_arr).to_csv(fname_csv)\n",
        "\n",
        "              if not obrez:\n",
        "                deep_range_new = deep_range \n",
        "\n",
        "              vp.plot_panel(d_arr, deep_range_new, fname, max_v = 0.1, figsize_x = 3, figsize_y = 2,\n",
        "                            ticks = False, info = True, crop = True, coords = (28,18,161,126), legend = None, my_dpi = None)\n",
        "            \n",
        "              del vp\n",
        "              i += 1\n",
        "          except: pass\n",
        "        del cp"
      ],
      "execution_count": null,
      "outputs": []
    },
    {
      "cell_type": "markdown",
      "metadata": {
        "id": "Xmm8jKTMO4qB"
      },
      "source": [
        "# **Генератор идеальных точечных данных!**"
      ]
    },
    {
      "cell_type": "code",
      "metadata": {
        "id": "-vDObG0BPJaB"
      },
      "source": [
        "deep_range = np.arange(-10.0, 10.1, 0.2)            # шаг датч.\n",
        "radian_range = np.arange(0.2, 1.0, 0.1)          # позиц. источн. от ствола\n",
        "sourse_range = np.array([0.0])                    # позиц. источн. по глубине\n",
        "alpha_arr = np.arange(0.0, 0.4, 0.05)                                     # коэф. ослабл сигнала\n",
        "beta_arr = np.arange(0, 150, 10)                                    # коэф. усил шума\n",
        "mu = 0                                            # мат. ожид \n",
        "sigma = 1                                         # дисперс. \n",
        "fs = 117187.5                                     # частота дискр.\n",
        "N = 10                                            # во сколько раз расстояние между источниками увеличить, т.е размер \n",
        "ADC = 2**15                                       # разрядн ацп\n",
        "pair_of_sensor = {'12' : 0.3}"
      ],
      "execution_count": null,
      "outputs": []
    },
    {
      "cell_type": "code",
      "metadata": {
        "id": "vWNFCNnePMfz"
      },
      "source": [
        "%%time\n",
        "path_model = os.path.join(path, 'modeling/point')\n",
        "\n",
        "x = 454 \n",
        "y = 571\n",
        "for num_wave in np.arange(0, 6):\n",
        "  wave = np.array(df_point.iloc[num_wave]['frame'])\n",
        "  for form_index in range(0, 3):\n",
        "    form_list = []\n",
        "    index_name = form_index #здесь выбор источника c 3 распределенные\n",
        "    for array in forms_list[form_names[index_name]]:\n",
        "      for dist in array[0]:\n",
        "        form_list = form_list + [[dist, deep] for deep in array[1]]\n",
        "    form_array = np.array(form_list)\n",
        "\n",
        "    for alpha in alpha_arr[:1]:\n",
        "      for beta in beta_arr[:1]:\n",
        "        cp = ComputingPanel(alpha, beta, wave, fs, mu, sigma)\n",
        "        for rad in radian_range:\n",
        "          try:\n",
        "            deep_range = np.arange(-10.0, 10.1, 0.2)\n",
        "            cross_corr_list = []\n",
        "            path_rad = os.path.join(path_model, 'wave{}/form{}/rad {}/a {}/b {}'.format(num_wave, form_index, round(rad,3), round(alpha, 3), beta))\n",
        "            print(path_rad)\n",
        "            if not os.path.exists(path_rad):\n",
        "              os.makedirs(path_rad)\n",
        "            for sour in sourse_range:\n",
        "              form = np.array([[d[0] + sour, d[1] + rad] for d in form_array])\n",
        "              cross_corr = cp.on_each_point(deep_range, pair_of_sensor, form, flow = False)\n",
        "              cross_corr_list.append(cross_corr)\n",
        "\n",
        "            i = 0\n",
        "            for k in cross_corr_list:\n",
        "              ds = np.array(k[0])\n",
        "              d = [k[x:y] for k in ds]\n",
        "              \n",
        "              vp = VisualizePanel()\n",
        "              fname = os.path.join(path_rad, str(i) + '.png')\n",
        "              fname_s = os.path.join(path_rad, str(i) + 's.png')\n",
        "              fname_csv = os.path.join(path_rad, str(i) + '.csv')\n",
        "              print(fname)\n",
        "              #l = vp.spectrogramm_real(d, deep_range,fname_s, max_v = None, min_v = 0, chast = 30)\n",
        "              l = vp.spectrogramm_max_value(d, deep_range)\n",
        "              \n",
        "              #обрезка по спектру\n",
        "              obrez = True\n",
        "              if obrez:\n",
        "                sl = slice(l-25, l+25)\n",
        "                d = d[sl]\n",
        "                deep_range_new = deep_range[sl]\n",
        "\n",
        "              d_arr = np.array(d, dtype=np.float16)\n",
        "              print(d_arr.shape)\n",
        "              pd.DataFrame(d_arr).to_csv(fname_csv)\n",
        "\n",
        "              if not obrez:\n",
        "                deep_range_new = deep_range \n",
        "\n",
        "              vp.plot_panel(d_arr, deep_range_new, fname, max_v = 0.1, figsize_x = 3, figsize_y = 2,\n",
        "                            ticks = False, info = True, crop = True, coords = (28,18,161,126), legend = None, my_dpi = None)\n",
        "            \n",
        "              del vp\n",
        "              i += 1\n",
        "          except: pass\n",
        "        del cp"
      ],
      "execution_count": null,
      "outputs": []
    }
  ]
}